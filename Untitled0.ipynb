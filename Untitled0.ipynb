{
  "nbformat": 4,
  "nbformat_minor": 0,
  "metadata": {
    "colab": {
      "provenance": [],
      "authorship_tag": "ABX9TyNQzobPTwU3Cmc4f6hWanRl",
      "include_colab_link": true
    },
    "kernelspec": {
      "name": "python3",
      "display_name": "Python 3"
    },
    "language_info": {
      "name": "python"
    }
  },
  "cells": [
    {
      "cell_type": "markdown",
      "metadata": {
        "id": "view-in-github",
        "colab_type": "text"
      },
      "source": [
        "<a href=\"https://colab.research.google.com/github/yogadharanikumaravel/yogadharani/blob/main/Untitled0.ipynb\" target=\"_parent\"><img src=\"https://colab.research.google.com/assets/colab-badge.svg\" alt=\"Open In Colab\"/></a>"
      ]
    },
    {
      "cell_type": "code",
      "execution_count": 1,
      "metadata": {
        "colab": {
          "base_uri": "https://localhost:8080/"
        },
        "id": "7-RkqsLQmrK4",
        "outputId": "b1d42d53-40d9-46c8-8850-693b265160e9"
      },
      "outputs": [
        {
          "output_type": "stream",
          "name": "stdout",
          "text": [
            "Collecting vaderSentiment\n",
            "  Downloading vaderSentiment-3.3.2-py2.py3-none-any.whl (125 kB)\n",
            "\u001b[?25l     \u001b[90m━━━━━━━━━━━━━━━━━━━━━━━━━━━━━━━━━━━━━━━━\u001b[0m \u001b[32m0.0/126.0 kB\u001b[0m \u001b[31m?\u001b[0m eta \u001b[36m-:--:--\u001b[0m\r\u001b[2K     \u001b[91m━━━━━━━━━━━━━━━━━━━━━━━━━━━━━━━━━━━━━━━\u001b[0m\u001b[90m╺\u001b[0m \u001b[32m122.9/126.0 kB\u001b[0m \u001b[31m3.9 MB/s\u001b[0m eta \u001b[36m0:00:01\u001b[0m\r\u001b[2K     \u001b[90m━━━━━━━━━━━━━━━━━━━━━━━━━━━━━━━━━━━━━━━━\u001b[0m \u001b[32m126.0/126.0 kB\u001b[0m \u001b[31m2.6 MB/s\u001b[0m eta \u001b[36m0:00:00\u001b[0m\n",
            "\u001b[?25hRequirement already satisfied: requests in /usr/local/lib/python3.10/dist-packages (from vaderSentiment) (2.31.0)\n",
            "Requirement already satisfied: charset-normalizer<4,>=2 in /usr/local/lib/python3.10/dist-packages (from requests->vaderSentiment) (3.3.2)\n",
            "Requirement already satisfied: idna<4,>=2.5 in /usr/local/lib/python3.10/dist-packages (from requests->vaderSentiment) (3.6)\n",
            "Requirement already satisfied: urllib3<3,>=1.21.1 in /usr/local/lib/python3.10/dist-packages (from requests->vaderSentiment) (2.0.7)\n",
            "Requirement already satisfied: certifi>=2017.4.17 in /usr/local/lib/python3.10/dist-packages (from requests->vaderSentiment) (2024.2.2)\n",
            "Installing collected packages: vaderSentiment\n",
            "Successfully installed vaderSentiment-3.3.2\n",
            "Text: I love this product!\n",
            "Sentiment score: {'neg': 0.0, 'neu': 0.4, 'pos': 0.6, 'compound': 0.6696}\n",
            "Sentiment: Positive\n",
            "\n",
            "Text: This movie is terrible.\n",
            "Sentiment score: {'neg': 0.508, 'neu': 0.492, 'pos': 0.0, 'compound': -0.4767}\n",
            "Sentiment: Negative\n",
            "\n",
            "Text: The food was okay.\n",
            "Sentiment score: {'neg': 0.0, 'neu': 0.612, 'pos': 0.388, 'compound': 0.2263}\n",
            "Sentiment: Positive\n",
            "\n",
            "Text: The service was excellent!\n",
            "Sentiment score: {'neg': 0.0, 'neu': 0.429, 'pos': 0.571, 'compound': 0.6114}\n",
            "Sentiment: Positive\n",
            "\n"
          ]
        }
      ],
      "source": [
        "# Install VADER library\n",
        "!pip install vaderSentiment\n",
        "\n",
        "# Import necessary libraries\n",
        "from vaderSentiment.vaderSentiment import SentimentIntensityAnalyzer\n",
        "\n",
        "# Initialize VADER sentiment analyzer\n",
        "analyzer = SentimentIntensityAnalyzer()\n",
        "\n",
        "# Sample text data\n",
        "texts = [\n",
        "    \"I love this product!\",\n",
        "    \"This movie is terrible.\",\n",
        "    \"The food was okay.\",\n",
        "    \"The service was excellent!\"\n",
        "]\n",
        "\n",
        "# Perform sentiment analysis on each text\n",
        "for text in texts:\n",
        "    sentiment_score = analyzer.polarity_scores(text)\n",
        "    print(f\"Text: {text}\")\n",
        "    print(f\"Sentiment score: {sentiment_score}\")\n",
        "    if sentiment_score['compound'] > 0:\n",
        "        print(\"Sentiment: Positive\")\n",
        "    elif sentiment_score['compound'] < 0:\n",
        "        print(\"Sentiment: Negative\")\n",
        "    else:\n",
        "        print(\"Sentiment: Neutral\")\n",
        "    print()"
      ]
    }
  ]
}